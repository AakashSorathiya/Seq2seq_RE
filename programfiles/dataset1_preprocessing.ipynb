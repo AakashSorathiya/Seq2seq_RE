{
 "cells": [
  {
   "cell_type": "code",
   "execution_count": 1,
   "metadata": {},
   "outputs": [],
   "source": [
    "import pandas as pd\n",
    "import re\n",
    "from bs4 import BeautifulSoup"
   ]
  },
  {
   "cell_type": "code",
   "execution_count": null,
   "metadata": {},
   "outputs": [],
   "source": [
    "data = pd.read_csv('../datafiles/dataset_1_RE-BERT.csv')\n",
    "data.info()"
   ]
  },
  {
   "cell_type": "code",
   "execution_count": 3,
   "metadata": {},
   "outputs": [],
   "source": [
    "def pre_process(text):\n",
    "  text = BeautifulSoup(str(text)).get_text()\n",
    "  text = re.sub(\"[^a-zA-Z]\", \" \", text)\n",
    "  text = text.lower()\n",
    "  tokens = text.split()\n",
    "  return tokens"
   ]
  },
  {
   "cell_type": "code",
   "execution_count": null,
   "metadata": {},
   "outputs": [],
   "source": [
    "def generate_bio_tags(sentence, keywords):\n",
    "    clean_content_tokens = pre_process(sentence)\n",
    "    \n",
    "    tags = ['O'] * len(clean_content_tokens)\n",
    "    \n",
    "    for keyword in keywords:\n",
    "        keyword_tokens = pre_process(keyword)\n",
    "        for i in range(len(clean_content_tokens)):\n",
    "            if clean_content_tokens[i:i+len(keyword_tokens)] == keyword_tokens:\n",
    "                tags[i] = 'B'\n",
    "                for j in range(1, len(keyword_tokens)):\n",
    "                    tags[i+j] = 'I'\n",
    "                break\n",
    "    \n",
    "    return clean_content_tokens, tags"
   ]
  },
  {
   "cell_type": "code",
   "execution_count": null,
   "metadata": {},
   "outputs": [],
   "source": [
    "tags_column=[]\n",
    "clean_content=[]\n",
    "for i, row in data.iterrows():\n",
    "    keywords=[]\n",
    "    # print(row['Feature (All Annotated)'])\n",
    "    if row['Feature (All Annotated)'] is not None:\n",
    "        keywords = str(row['Feature (All Annotated)']).split(';')\n",
    "    clean_content_tokens, tag_sequence = generate_bio_tags(row['Sentence content'], keywords)\n",
    "    tags_column.append(tag_sequence)\n",
    "    clean_content.append(clean_content_tokens)\n",
    "\n",
    "print(len(tags_column))\n",
    "print(len(clean_content))"
   ]
  },
  {
   "cell_type": "code",
   "execution_count": null,
   "metadata": {},
   "outputs": [],
   "source": [
    "new_df = pd.DataFrame({'App id': data['App id'].to_list(), 'clean_content': clean_content, 'tags': tags_column})\n",
    "new_df.info()"
   ]
  },
  {
   "cell_type": "code",
   "execution_count": null,
   "metadata": {},
   "outputs": [],
   "source": [
    "new_df.to_csv('../datafiles/dataset_1_preprocessed.csv')"
   ]
  }
 ],
 "metadata": {
  "kernelspec": {
   "display_name": "pyenv",
   "language": "python",
   "name": "python3"
  },
  "language_info": {
   "codemirror_mode": {
    "name": "ipython",
    "version": 3
   },
   "file_extension": ".py",
   "mimetype": "text/x-python",
   "name": "python",
   "nbconvert_exporter": "python",
   "pygments_lexer": "ipython3",
   "version": "3.12.3"
  }
 },
 "nbformat": 4,
 "nbformat_minor": 2
}
