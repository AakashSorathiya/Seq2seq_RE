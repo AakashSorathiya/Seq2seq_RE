{
 "cells": [
  {
   "cell_type": "code",
   "execution_count": 1,
   "metadata": {},
   "outputs": [],
   "source": [
    "import pandas as pd\n",
    "import re"
   ]
  },
  {
   "cell_type": "code",
   "execution_count": 2,
   "metadata": {},
   "outputs": [],
   "source": [
    "reviews_txt = open('../datafiles/tfrex_data/reviews_annotated.txt', 'r', encoding='utf8')"
   ]
  },
  {
   "cell_type": "code",
   "execution_count": 3,
   "metadata": {},
   "outputs": [],
   "source": [
    "app_name = []\n",
    "app_category = []\n",
    "clean_content = []\n",
    "content = []\n",
    "tags = []"
   ]
  },
  {
   "cell_type": "code",
   "execution_count": 5,
   "metadata": {},
   "outputs": [],
   "source": [
    "while True:\n",
    "    line = reviews_txt.readline()\n",
    "    if not line:\n",
    "        break\n",
    "\n",
    "    if line.startswith('<doc'):\n",
    "        app = re.search(r'app_name=\\\"(.*)\\\" app_category', line).group(1)\n",
    "        category = re.search(r'google_play_category=\"\\[\\'(.*)\\'.*\"', line).group(1)\n",
    "        reviews_txt.readline()\n",
    "        sub_line = reviews_txt.readline()\n",
    "        review_clean_content=[]\n",
    "        review_content=[]\n",
    "        review_tags=[]\n",
    "        while not sub_line.startswith('</doc'):\n",
    "            sub_line_tokens = sub_line.split()\n",
    "            # print(sub_line_tokens)\n",
    "            if len(sub_line_tokens)>0 and sub_line_tokens[2].isalpha():\n",
    "                review_content.append(sub_line_tokens[1])\n",
    "                review_clean_content.append(sub_line_tokens[2])\n",
    "                tag = sub_line_tokens[-1]\n",
    "                # review_tags.append(tag)\n",
    "                if tag=='B-feature':\n",
    "                    review_tags.append('B')\n",
    "                elif tag=='I-feature':\n",
    "                    review_tags.append('I')\n",
    "                else:\n",
    "                    review_tags.append('O')\n",
    "            sub_line = reviews_txt.readline()\n",
    "        app_name.append(app)\n",
    "        app_category.append(category)\n",
    "        clean_content.append(review_clean_content)\n",
    "        content.append(' '.join(review_content))\n",
    "        tags.append(review_tags)\n",
    "        word_count+=len(review_clean_content)"
   ]
  },
  {
   "cell_type": "code",
   "execution_count": null,
   "metadata": {},
   "outputs": [],
   "source": [
    "df = pd.DataFrame({'app_name': app_name, 'category': app_category, 'content': content, 'clean_content': clean_content, 'tags': tags})\n",
    "df.info()"
   ]
  },
  {
   "cell_type": "code",
   "execution_count": null,
   "metadata": {},
   "outputs": [],
   "source": [
    "df.to_csv('../datafiles/dataset_2_preprocessed.csv')"
   ]
  }
 ],
 "metadata": {
  "kernelspec": {
   "display_name": "pyenv",
   "language": "python",
   "name": "python3"
  },
  "language_info": {
   "codemirror_mode": {
    "name": "ipython",
    "version": 3
   },
   "file_extension": ".py",
   "mimetype": "text/x-python",
   "name": "python",
   "nbconvert_exporter": "python",
   "pygments_lexer": "ipython3",
   "version": "3.12.3"
  }
 },
 "nbformat": 4,
 "nbformat_minor": 2
}
